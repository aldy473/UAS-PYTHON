{
 "cells": [
  {
   "cell_type": "code",
   "execution_count": 3,
   "metadata": {},
   "outputs": [
    {
     "name": "stdout",
     "output_type": "stream",
     "text": [
      "Masukan Celcius 50\n",
      "Maka nilai fahrenheit adalah  122.0\n",
      "Maka nilai reamur adalah  40.0\n"
     ]
    }
   ],
   "source": [
    "#fahrenheit\n",
    "c = float(input(\"Masukan Celcius \"))\n",
    "f = 9/5 * c + 32\n",
    "print(\"Maka nilai fahrenheit adalah \", f)\n",
    "#reamur\n",
    "r = 4/5 * c\n",
    "print(\"Maka nilai reamur adalah \", r)"
   ]
  },
  {
   "cell_type": "code",
   "execution_count": 9,
   "metadata": {},
   "outputs": [
    {
     "ename": "ModuleNotFoundError",
     "evalue": "No module named 'mysql'",
     "output_type": "error",
     "traceback": [
      "\u001b[1;31m---------------------------------------------------------------------------\u001b[0m",
      "\u001b[1;31mModuleNotFoundError\u001b[0m                       Traceback (most recent call last)",
      "\u001b[1;32m<ipython-input-9-87ef8d1c681e>\u001b[0m in \u001b[0;36m<module>\u001b[1;34m\u001b[0m\n\u001b[0;32m      1\u001b[0m \u001b[1;31m#BUAT DATABASE\u001b[0m\u001b[1;33m\u001b[0m\u001b[1;33m\u001b[0m\u001b[1;33m\u001b[0m\u001b[0m\n\u001b[0;32m      2\u001b[0m \u001b[1;33m\u001b[0m\u001b[0m\n\u001b[1;32m----> 3\u001b[1;33m \u001b[1;32mimport\u001b[0m \u001b[0mmysql\u001b[0m\u001b[1;33m.\u001b[0m\u001b[0mconnector\u001b[0m\u001b[1;33m\u001b[0m\u001b[1;33m\u001b[0m\u001b[0m\n\u001b[0m\u001b[0;32m      4\u001b[0m \u001b[1;33m\u001b[0m\u001b[0m\n\u001b[0;32m      5\u001b[0m db = mysql.connector.connect(\n",
      "\u001b[1;31mModuleNotFoundError\u001b[0m: No module named 'mysql'"
     ]
    }
   ],
   "source": [
    "#BUAT DATABASE\n",
    "\n",
    "import mysql.connector\n",
    "\n",
    "db = mysql.connector.connect(\n",
    "    host=\"localhost\",\n",
    "    user=\"root\",\n",
    "    passwd=\"\"\n",
    ")\n",
    "\n",
    "cursor = db.cursor()\n",
    "cursor.execute(\"CREATE DATABASE db_Film\")\n",
    "\n",
    "print(\"Database berhasil dibuat!\")"
   ]
  },
  {
   "cell_type": "code",
   "execution_count": 10,
   "metadata": {},
   "outputs": [
    {
     "ename": "ModuleNotFoundError",
     "evalue": "No module named 'mysql'",
     "output_type": "error",
     "traceback": [
      "\u001b[1;31m---------------------------------------------------------------------------\u001b[0m",
      "\u001b[1;31mModuleNotFoundError\u001b[0m                       Traceback (most recent call last)",
      "\u001b[1;32m<ipython-input-10-309299620ad3>\u001b[0m in \u001b[0;36m<module>\u001b[1;34m\u001b[0m\n\u001b[1;32m----> 1\u001b[1;33m \u001b[1;32mimport\u001b[0m \u001b[0mmysql\u001b[0m\u001b[1;33m.\u001b[0m\u001b[0mconnector\u001b[0m\u001b[1;33m\u001b[0m\u001b[1;33m\u001b[0m\u001b[0m\n\u001b[0m\u001b[0;32m      2\u001b[0m \u001b[1;33m\u001b[0m\u001b[0m\n\u001b[0;32m      3\u001b[0m db = mysql.connector.connect(\n\u001b[0;32m      4\u001b[0m     \u001b[0mhost\u001b[0m\u001b[1;33m=\u001b[0m\u001b[1;34m\"localhost\"\u001b[0m\u001b[1;33m,\u001b[0m\u001b[1;33m\u001b[0m\u001b[1;33m\u001b[0m\u001b[0m\n\u001b[0;32m      5\u001b[0m     \u001b[0muser\u001b[0m\u001b[1;33m=\u001b[0m\u001b[1;34m\"root\"\u001b[0m\u001b[1;33m,\u001b[0m\u001b[1;33m\u001b[0m\u001b[1;33m\u001b[0m\u001b[0m\n",
      "\u001b[1;31mModuleNotFoundError\u001b[0m: No module named 'mysql'"
     ]
    }
   ],
   "source": [
    "import mysql.connector\n",
    "\n",
    "db = mysql.connector.connect(\n",
    "    host=\"localhost\",\n",
    "    user=\"root\",\n",
    "    passwd=\"\",\n",
    "    database=\"db_Film\"\n",
    ")\n",
    "\n",
    "cursor = db.cursor()\n",
    "sql = \"\"\"CREATE TABLE tblFilm (\n",
    "    Kode_id INT AUTO_INCREMENT PRIMARY KEY,\n",
    "    Judul_Film VARCHAR(255),\n",
    "    Jenis_Film VARCHAR(255),\n",
    "    Deskripsi_Film VARCHAR(255)\n",
    ")\n",
    "\"\"\"\n",
    "cursor.execute(sql)\n",
    "\n",
    "print(\"Tabel Film berhasil dibuat\")"
   ]
  },
  {
   "cell_type": "code",
   "execution_count": 11,
   "metadata": {},
   "outputs": [
    {
     "ename": "ModuleNotFoundError",
     "evalue": "No module named 'mysql'",
     "output_type": "error",
     "traceback": [
      "\u001b[1;31m---------------------------------------------------------------------------\u001b[0m",
      "\u001b[1;31mModuleNotFoundError\u001b[0m                       Traceback (most recent call last)",
      "\u001b[1;32m<ipython-input-11-86f37aa9014c>\u001b[0m in \u001b[0;36m<module>\u001b[1;34m\u001b[0m\n\u001b[0;32m      2\u001b[0m \u001b[1;33m\u001b[0m\u001b[0m\n\u001b[0;32m      3\u001b[0m \u001b[1;33m\u001b[0m\u001b[0m\n\u001b[1;32m----> 4\u001b[1;33m \u001b[1;32mimport\u001b[0m \u001b[0mmysql\u001b[0m\u001b[1;33m.\u001b[0m\u001b[0mconnector\u001b[0m\u001b[1;33m\u001b[0m\u001b[1;33m\u001b[0m\u001b[0m\n\u001b[0m\u001b[0;32m      5\u001b[0m \u001b[1;32mimport\u001b[0m \u001b[0mos\u001b[0m\u001b[1;33m\u001b[0m\u001b[1;33m\u001b[0m\u001b[0m\n\u001b[0;32m      6\u001b[0m \u001b[1;33m\u001b[0m\u001b[0m\n",
      "\u001b[1;31mModuleNotFoundError\u001b[0m: No module named 'mysql'"
     ]
    }
   ],
   "source": [
    "#CRUDS = Create, Read, Update, Delete, dan Search (JAWABAN TUGAS ASLI)\n",
    "\n",
    "\n",
    "import mysql.connector\n",
    "import os\n",
    "\n",
    "db = mysql.connector.connect(\n",
    "    host=\"localhost\",\n",
    "    user=\"root\",\n",
    "    passwd=\"\",\n",
    "    database=\"db_Film\"\n",
    ")\n",
    "\n",
    "def insert_data(db):\n",
    "    Judul_Film = input(\"Masukan judul: \")\n",
    "    Jenis_Film = input(\"Masukan genre: \")\n",
    "    Deskripsi_Film = input(\"Masukan deskripsi: \")\n",
    "    val = (Judul_Film, Jenis_Film, Deskripsi_Film)\n",
    "    cursor = db.cursor()\n",
    "    sql = \"INSERT INTO tblFilm (Judul_Film, Jenis_Film, Deskripsi_Film) VALUES (%s, %s, %s)\"\n",
    "    cursor.execute(sql, val)\n",
    "    db.commit()\n",
    "    print(\"{} data berhasil disimpan\".format(cursor.rowcount))\n",
    "    \n",
    "def show_data(db):\n",
    "    cursor = db.cursor()\n",
    "    sql = \"SELECT * FROM tblFilm\"\n",
    "    cursor.execute(sql)\n",
    "    results = cursor.fetchall()\n",
    "    \n",
    "    if cursor.rowcount < 0:\n",
    "        print(\"Tidak ada data\")\n",
    "    else:\n",
    "        for data in results:\n",
    "            print(data)\n",
    "            \n",
    "def update_data(db):\n",
    "    cursor = db.cursor()\n",
    "    show_data(db)\n",
    "    Kode_id = input(\"pilih id film> \")\n",
    "    Judul_Film = input(\"Judul baru: \")\n",
    "    Jenis_Film = input(\"Genre baru: \")\n",
    "    Deskripsi_Film = input(\"Deskripsi baru: \")\n",
    "\n",
    "    sql = \"UPDATE tblFilm SET Judul_Film=%s, Jenis_Film=%s, Deskripsi_Film=%s WHERE Kode_id=%s\"\n",
    "    val = (Judul_Film, Jenis_Film, Deskripsi_Film)\n",
    "    cursor.execute(sql, val)\n",
    "    db.commit()\n",
    "    print(\"{} data berhasil diubah\".format(cursor.rowcount))\n",
    "    \n",
    "\n",
    "def delete_data(db):\n",
    "    cursor = db.cursor()\n",
    "    show_data(db)\n",
    "    Kode_id = input(\"pilih kode id> \")\n",
    "    sql = \"DELETE FROM tblFilm WHERE Kode_id=%s\"\n",
    "    val = (Kode_id, )\n",
    "    cursor.execute(sql, val)\n",
    "    db.commit()\n",
    "    print(\"{} data dihapus\".format(cursor.rowcount))\n",
    "\n",
    "def search_data(db):\n",
    "    cursor = db.cursor()\n",
    "    keyword = input(\"Kata kunci: \")\n",
    "    sql = \"SELECT * FROM tblFilm WHERE Judul_Film LIKE %s OR Jenis_Film LIKE %s OR Deskripsi_Film LIKE %s\"\n",
    "    val = (\"%{}%\".format(keyword), \"%{}%\".format(keyword), \"%{}%\".format(keyword))\n",
    "    cursor.execute(sql, val)\n",
    "    results = cursor.fetchall()\n",
    "    \n",
    "    if cursor.rowcount < 0:\n",
    "        print(\"Tidak ada data\")\n",
    "    else:\n",
    "        for data in results:\n",
    "            print(data)\n",
    "    \n",
    "def show_menu(db):\n",
    "    print(\"=== APLIKASI FILM DARI ALDIANUS  ===\")\n",
    "    print(\"1. Insert Data\")\n",
    "    print(\"2. Show Data\")\n",
    "    print(\"3. Update Data\")\n",
    "    print(\"4. Delete Data\")\n",
    "    print(\"5. Search Data\")\n",
    "    print(\"0. Exit\")\n",
    "    print(\"-----------------\")\n",
    "    menu = input(\"Pilih menu>\")\n",
    "    \n",
    "#CLEAR SCREEN\n",
    "    os.system(\"clear\")\n",
    "    \n",
    "    if menu == \"1\":\n",
    "        insert_data(db)\n",
    "    elif menu == \"2\":\n",
    "        show_data(db)\n",
    "    elif menu == \"3\":\n",
    "        update_data(db)\n",
    "    elif menu == \"4\":\n",
    "        delete_data(db)\n",
    "    elif menu == \"5\":\n",
    "        search_data(db)\n",
    "    elif menu == \"0\":\n",
    "        exit()\n",
    "    else:\n",
    "        print(\"Menu ada yang salah!\")\n",
    "\n",
    "if _name== \"main_\":\n",
    "    while(True):\n",
    "        show_menu(db)"
   ]
  },
  {
   "cell_type": "code",
   "execution_count": null,
   "metadata": {},
   "outputs": [],
   "source": []
  }
 ],
 "metadata": {
  "kernelspec": {
   "display_name": "Python 3",
   "language": "python",
   "name": "python3"
  }
 },
 "nbformat": 4,
 "nbformat_minor": 4
}
